{
  "cells": [
    {
      "cell_type": "markdown",
      "metadata": {
        "id": "view-in-github",
        "colab_type": "text"
      },
      "source": [
        "<a href=\"https://colab.research.google.com/github/Sathish2004/Mini-Project/blob/main/sat_mini_hlcare.ipynb\" target=\"_parent\"><img src=\"https://colab.research.google.com/assets/colab-badge.svg\" alt=\"Open In Colab\"/></a>"
      ]
    },
    {
      "cell_type": "markdown",
      "id": "e755316b",
      "metadata": {
        "papermill": {
          "duration": 0.0058,
          "end_time": "2022-11-28T17:50:32.753452",
          "exception": false,
          "start_time": "2022-11-28T17:50:32.747652",
          "status": "completed"
        },
        "tags": [],
        "id": "e755316b"
      },
      "source": [
        "## **Importing Required Packages**"
      ]
    },
    {
      "cell_type": "code",
      "execution_count": 4,
      "id": "f4598663",
      "metadata": {
        "execution": {
          "iopub.execute_input": "2022-11-28T17:50:32.765007Z",
          "iopub.status.busy": "2022-11-28T17:50:32.764333Z",
          "iopub.status.idle": "2022-11-28T17:50:33.906719Z",
          "shell.execute_reply": "2022-11-28T17:50:33.905722Z"
        },
        "papermill": {
          "duration": 1.150787,
          "end_time": "2022-11-28T17:50:33.909207",
          "exception": false,
          "start_time": "2022-11-28T17:50:32.758420",
          "status": "completed"
        },
        "tags": [],
        "id": "f4598663"
      },
      "outputs": [],
      "source": [
        "import numpy as np\n",
        "import pandas as pd\n",
        "import matplotlib.pyplot as plt\n",
        "import seaborn as sns\n",
        "\n",
        "from sklearn.model_selection import train_test_split\n",
        "from sklearn.linear_model import LogisticRegression\n",
        "from sklearn.neighbors import KNeighborsClassifier\n",
        "from sklearn.ensemble import RandomForestClassifier\n",
        "from sklearn.svm import SVC\n",
        "from sklearn.metrics import confusion_matrix, accuracy_score, roc_curve, classification_report\n",
        "from sklearn.feature_selection import SelectKBest\n",
        "from sklearn.feature_selection import chi2\n",
        "\n",
        "from tqdm import tqdm\n",
        "import os\n",
        "\n",
        "os.environ['TF_CPP_MIN_LOG_LEVEL'] = '3'\n",
        "\n",
        "import warnings\n",
        "warnings.filterwarnings(\"ignore\")"
      ]
    },
    {
      "cell_type": "code",
      "source": [
        "from google.colab import drive\n",
        "drive.mount('/content/drive')"
      ],
      "metadata": {
        "colab": {
          "base_uri": "https://localhost:8080/"
        },
        "id": "eNDrzynioPAE",
        "outputId": "084c16bd-c996-4afd-aa88-53bc800284bf"
      },
      "id": "eNDrzynioPAE",
      "execution_count": 1,
      "outputs": [
        {
          "output_type": "stream",
          "name": "stdout",
          "text": [
            "Mounted at /content/drive\n"
          ]
        }
      ]
    },
    {
      "cell_type": "markdown",
      "id": "40be3bdd",
      "metadata": {
        "papermill": {
          "duration": 0.008615,
          "end_time": "2022-11-28T17:50:33.928027",
          "exception": false,
          "start_time": "2022-11-28T17:50:33.919412",
          "status": "completed"
        },
        "tags": [],
        "id": "40be3bdd"
      },
      "source": [
        "## **Loading Data**"
      ]
    },
    {
      "cell_type": "code",
      "execution_count": 5,
      "id": "a40628ab",
      "metadata": {
        "execution": {
          "iopub.execute_input": "2022-11-28T17:50:33.946700Z",
          "iopub.status.busy": "2022-11-28T17:50:33.946176Z",
          "iopub.status.idle": "2022-11-28T17:50:34.007316Z",
          "shell.execute_reply": "2022-11-28T17:50:34.006319Z"
        },
        "papermill": {
          "duration": 0.074168,
          "end_time": "2022-11-28T17:50:34.009611",
          "exception": false,
          "start_time": "2022-11-28T17:50:33.935443",
          "status": "completed"
        },
        "tags": [],
        "colab": {
          "base_uri": "https://localhost:8080/",
          "height": 296
        },
        "id": "a40628ab",
        "outputId": "b850f174-a95b-4963-cef8-8e79ade57f92"
      },
      "outputs": [
        {
          "output_type": "execute_result",
          "data": {
            "text/plain": [
              "   ID  N_Days Status             Drug    Age Sex Ascites Hepatomegaly Spiders  \\\n",
              "0   1     400      D  D-penicillamine  21464   F       Y            Y       Y   \n",
              "1   2    4500      C  D-penicillamine  20617   F       N            Y       Y   \n",
              "2   3    1012      D  D-penicillamine  25594   M       N            N       N   \n",
              "3   4    1925      D  D-penicillamine  19994   F       N            Y       Y   \n",
              "4   5    1504     CL          Placebo  13918   F       N            Y       Y   \n",
              "\n",
              "  Edema  Bilirubin  Cholesterol  Albumin  Copper  Alk_Phos    SGOT  \\\n",
              "0     Y       14.5        261.0     2.60   156.0    1718.0  137.95   \n",
              "1     N        1.1        302.0     4.14    54.0    7394.8  113.52   \n",
              "2     S        1.4        176.0     3.48   210.0     516.0   96.10   \n",
              "3     S        1.8        244.0     2.54    64.0    6121.8   60.63   \n",
              "4     N        3.4        279.0     3.53   143.0     671.0  113.15   \n",
              "\n",
              "   Tryglicerides  Platelets  Prothrombin  Stage  \n",
              "0          172.0      190.0         12.2    4.0  \n",
              "1           88.0      221.0         10.6    3.0  \n",
              "2           55.0      151.0         12.0    4.0  \n",
              "3           92.0      183.0         10.3    4.0  \n",
              "4           72.0      136.0         10.9    3.0  "
            ],
            "text/html": [
              "\n",
              "  <div id=\"df-9a71cc72-a6a0-4ca6-a175-3273b036ed2b\" class=\"colab-df-container\">\n",
              "    <div>\n",
              "<style scoped>\n",
              "    .dataframe tbody tr th:only-of-type {\n",
              "        vertical-align: middle;\n",
              "    }\n",
              "\n",
              "    .dataframe tbody tr th {\n",
              "        vertical-align: top;\n",
              "    }\n",
              "\n",
              "    .dataframe thead th {\n",
              "        text-align: right;\n",
              "    }\n",
              "</style>\n",
              "<table border=\"1\" class=\"dataframe\">\n",
              "  <thead>\n",
              "    <tr style=\"text-align: right;\">\n",
              "      <th></th>\n",
              "      <th>ID</th>\n",
              "      <th>N_Days</th>\n",
              "      <th>Status</th>\n",
              "      <th>Drug</th>\n",
              "      <th>Age</th>\n",
              "      <th>Sex</th>\n",
              "      <th>Ascites</th>\n",
              "      <th>Hepatomegaly</th>\n",
              "      <th>Spiders</th>\n",
              "      <th>Edema</th>\n",
              "      <th>Bilirubin</th>\n",
              "      <th>Cholesterol</th>\n",
              "      <th>Albumin</th>\n",
              "      <th>Copper</th>\n",
              "      <th>Alk_Phos</th>\n",
              "      <th>SGOT</th>\n",
              "      <th>Tryglicerides</th>\n",
              "      <th>Platelets</th>\n",
              "      <th>Prothrombin</th>\n",
              "      <th>Stage</th>\n",
              "    </tr>\n",
              "  </thead>\n",
              "  <tbody>\n",
              "    <tr>\n",
              "      <th>0</th>\n",
              "      <td>1</td>\n",
              "      <td>400</td>\n",
              "      <td>D</td>\n",
              "      <td>D-penicillamine</td>\n",
              "      <td>21464</td>\n",
              "      <td>F</td>\n",
              "      <td>Y</td>\n",
              "      <td>Y</td>\n",
              "      <td>Y</td>\n",
              "      <td>Y</td>\n",
              "      <td>14.5</td>\n",
              "      <td>261.0</td>\n",
              "      <td>2.60</td>\n",
              "      <td>156.0</td>\n",
              "      <td>1718.0</td>\n",
              "      <td>137.95</td>\n",
              "      <td>172.0</td>\n",
              "      <td>190.0</td>\n",
              "      <td>12.2</td>\n",
              "      <td>4.0</td>\n",
              "    </tr>\n",
              "    <tr>\n",
              "      <th>1</th>\n",
              "      <td>2</td>\n",
              "      <td>4500</td>\n",
              "      <td>C</td>\n",
              "      <td>D-penicillamine</td>\n",
              "      <td>20617</td>\n",
              "      <td>F</td>\n",
              "      <td>N</td>\n",
              "      <td>Y</td>\n",
              "      <td>Y</td>\n",
              "      <td>N</td>\n",
              "      <td>1.1</td>\n",
              "      <td>302.0</td>\n",
              "      <td>4.14</td>\n",
              "      <td>54.0</td>\n",
              "      <td>7394.8</td>\n",
              "      <td>113.52</td>\n",
              "      <td>88.0</td>\n",
              "      <td>221.0</td>\n",
              "      <td>10.6</td>\n",
              "      <td>3.0</td>\n",
              "    </tr>\n",
              "    <tr>\n",
              "      <th>2</th>\n",
              "      <td>3</td>\n",
              "      <td>1012</td>\n",
              "      <td>D</td>\n",
              "      <td>D-penicillamine</td>\n",
              "      <td>25594</td>\n",
              "      <td>M</td>\n",
              "      <td>N</td>\n",
              "      <td>N</td>\n",
              "      <td>N</td>\n",
              "      <td>S</td>\n",
              "      <td>1.4</td>\n",
              "      <td>176.0</td>\n",
              "      <td>3.48</td>\n",
              "      <td>210.0</td>\n",
              "      <td>516.0</td>\n",
              "      <td>96.10</td>\n",
              "      <td>55.0</td>\n",
              "      <td>151.0</td>\n",
              "      <td>12.0</td>\n",
              "      <td>4.0</td>\n",
              "    </tr>\n",
              "    <tr>\n",
              "      <th>3</th>\n",
              "      <td>4</td>\n",
              "      <td>1925</td>\n",
              "      <td>D</td>\n",
              "      <td>D-penicillamine</td>\n",
              "      <td>19994</td>\n",
              "      <td>F</td>\n",
              "      <td>N</td>\n",
              "      <td>Y</td>\n",
              "      <td>Y</td>\n",
              "      <td>S</td>\n",
              "      <td>1.8</td>\n",
              "      <td>244.0</td>\n",
              "      <td>2.54</td>\n",
              "      <td>64.0</td>\n",
              "      <td>6121.8</td>\n",
              "      <td>60.63</td>\n",
              "      <td>92.0</td>\n",
              "      <td>183.0</td>\n",
              "      <td>10.3</td>\n",
              "      <td>4.0</td>\n",
              "    </tr>\n",
              "    <tr>\n",
              "      <th>4</th>\n",
              "      <td>5</td>\n",
              "      <td>1504</td>\n",
              "      <td>CL</td>\n",
              "      <td>Placebo</td>\n",
              "      <td>13918</td>\n",
              "      <td>F</td>\n",
              "      <td>N</td>\n",
              "      <td>Y</td>\n",
              "      <td>Y</td>\n",
              "      <td>N</td>\n",
              "      <td>3.4</td>\n",
              "      <td>279.0</td>\n",
              "      <td>3.53</td>\n",
              "      <td>143.0</td>\n",
              "      <td>671.0</td>\n",
              "      <td>113.15</td>\n",
              "      <td>72.0</td>\n",
              "      <td>136.0</td>\n",
              "      <td>10.9</td>\n",
              "      <td>3.0</td>\n",
              "    </tr>\n",
              "  </tbody>\n",
              "</table>\n",
              "</div>\n",
              "    <div class=\"colab-df-buttons\">\n",
              "\n",
              "  <div class=\"colab-df-container\">\n",
              "    <button class=\"colab-df-convert\" onclick=\"convertToInteractive('df-9a71cc72-a6a0-4ca6-a175-3273b036ed2b')\"\n",
              "            title=\"Convert this dataframe to an interactive table.\"\n",
              "            style=\"display:none;\">\n",
              "\n",
              "  <svg xmlns=\"http://www.w3.org/2000/svg\" height=\"24px\" viewBox=\"0 -960 960 960\">\n",
              "    <path d=\"M120-120v-720h720v720H120Zm60-500h600v-160H180v160Zm220 220h160v-160H400v160Zm0 220h160v-160H400v160ZM180-400h160v-160H180v160Zm440 0h160v-160H620v160ZM180-180h160v-160H180v160Zm440 0h160v-160H620v160Z\"/>\n",
              "  </svg>\n",
              "    </button>\n",
              "\n",
              "  <style>\n",
              "    .colab-df-container {\n",
              "      display:flex;\n",
              "      gap: 12px;\n",
              "    }\n",
              "\n",
              "    .colab-df-convert {\n",
              "      background-color: #E8F0FE;\n",
              "      border: none;\n",
              "      border-radius: 50%;\n",
              "      cursor: pointer;\n",
              "      display: none;\n",
              "      fill: #1967D2;\n",
              "      height: 32px;\n",
              "      padding: 0 0 0 0;\n",
              "      width: 32px;\n",
              "    }\n",
              "\n",
              "    .colab-df-convert:hover {\n",
              "      background-color: #E2EBFA;\n",
              "      box-shadow: 0px 1px 2px rgba(60, 64, 67, 0.3), 0px 1px 3px 1px rgba(60, 64, 67, 0.15);\n",
              "      fill: #174EA6;\n",
              "    }\n",
              "\n",
              "    .colab-df-buttons div {\n",
              "      margin-bottom: 4px;\n",
              "    }\n",
              "\n",
              "    [theme=dark] .colab-df-convert {\n",
              "      background-color: #3B4455;\n",
              "      fill: #D2E3FC;\n",
              "    }\n",
              "\n",
              "    [theme=dark] .colab-df-convert:hover {\n",
              "      background-color: #434B5C;\n",
              "      box-shadow: 0px 1px 3px 1px rgba(0, 0, 0, 0.15);\n",
              "      filter: drop-shadow(0px 1px 2px rgba(0, 0, 0, 0.3));\n",
              "      fill: #FFFFFF;\n",
              "    }\n",
              "  </style>\n",
              "\n",
              "    <script>\n",
              "      const buttonEl =\n",
              "        document.querySelector('#df-9a71cc72-a6a0-4ca6-a175-3273b036ed2b button.colab-df-convert');\n",
              "      buttonEl.style.display =\n",
              "        google.colab.kernel.accessAllowed ? 'block' : 'none';\n",
              "\n",
              "      async function convertToInteractive(key) {\n",
              "        const element = document.querySelector('#df-9a71cc72-a6a0-4ca6-a175-3273b036ed2b');\n",
              "        const dataTable =\n",
              "          await google.colab.kernel.invokeFunction('convertToInteractive',\n",
              "                                                    [key], {});\n",
              "        if (!dataTable) return;\n",
              "\n",
              "        const docLinkHtml = 'Like what you see? Visit the ' +\n",
              "          '<a target=\"_blank\" href=https://colab.research.google.com/notebooks/data_table.ipynb>data table notebook</a>'\n",
              "          + ' to learn more about interactive tables.';\n",
              "        element.innerHTML = '';\n",
              "        dataTable['output_type'] = 'display_data';\n",
              "        await google.colab.output.renderOutput(dataTable, element);\n",
              "        const docLink = document.createElement('div');\n",
              "        docLink.innerHTML = docLinkHtml;\n",
              "        element.appendChild(docLink);\n",
              "      }\n",
              "    </script>\n",
              "  </div>\n",
              "\n",
              "\n",
              "<div id=\"df-6d8f13a6-d2fa-47ec-8512-4e307f2712d1\">\n",
              "  <button class=\"colab-df-quickchart\" onclick=\"quickchart('df-6d8f13a6-d2fa-47ec-8512-4e307f2712d1')\"\n",
              "            title=\"Suggest charts.\"\n",
              "            style=\"display:none;\">\n",
              "\n",
              "<svg xmlns=\"http://www.w3.org/2000/svg\" height=\"24px\"viewBox=\"0 0 24 24\"\n",
              "     width=\"24px\">\n",
              "    <g>\n",
              "        <path d=\"M19 3H5c-1.1 0-2 .9-2 2v14c0 1.1.9 2 2 2h14c1.1 0 2-.9 2-2V5c0-1.1-.9-2-2-2zM9 17H7v-7h2v7zm4 0h-2V7h2v10zm4 0h-2v-4h2v4z\"/>\n",
              "    </g>\n",
              "</svg>\n",
              "  </button>\n",
              "\n",
              "<style>\n",
              "  .colab-df-quickchart {\n",
              "      --bg-color: #E8F0FE;\n",
              "      --fill-color: #1967D2;\n",
              "      --hover-bg-color: #E2EBFA;\n",
              "      --hover-fill-color: #174EA6;\n",
              "      --disabled-fill-color: #AAA;\n",
              "      --disabled-bg-color: #DDD;\n",
              "  }\n",
              "\n",
              "  [theme=dark] .colab-df-quickchart {\n",
              "      --bg-color: #3B4455;\n",
              "      --fill-color: #D2E3FC;\n",
              "      --hover-bg-color: #434B5C;\n",
              "      --hover-fill-color: #FFFFFF;\n",
              "      --disabled-bg-color: #3B4455;\n",
              "      --disabled-fill-color: #666;\n",
              "  }\n",
              "\n",
              "  .colab-df-quickchart {\n",
              "    background-color: var(--bg-color);\n",
              "    border: none;\n",
              "    border-radius: 50%;\n",
              "    cursor: pointer;\n",
              "    display: none;\n",
              "    fill: var(--fill-color);\n",
              "    height: 32px;\n",
              "    padding: 0;\n",
              "    width: 32px;\n",
              "  }\n",
              "\n",
              "  .colab-df-quickchart:hover {\n",
              "    background-color: var(--hover-bg-color);\n",
              "    box-shadow: 0 1px 2px rgba(60, 64, 67, 0.3), 0 1px 3px 1px rgba(60, 64, 67, 0.15);\n",
              "    fill: var(--button-hover-fill-color);\n",
              "  }\n",
              "\n",
              "  .colab-df-quickchart-complete:disabled,\n",
              "  .colab-df-quickchart-complete:disabled:hover {\n",
              "    background-color: var(--disabled-bg-color);\n",
              "    fill: var(--disabled-fill-color);\n",
              "    box-shadow: none;\n",
              "  }\n",
              "\n",
              "  .colab-df-spinner {\n",
              "    border: 2px solid var(--fill-color);\n",
              "    border-color: transparent;\n",
              "    border-bottom-color: var(--fill-color);\n",
              "    animation:\n",
              "      spin 1s steps(1) infinite;\n",
              "  }\n",
              "\n",
              "  @keyframes spin {\n",
              "    0% {\n",
              "      border-color: transparent;\n",
              "      border-bottom-color: var(--fill-color);\n",
              "      border-left-color: var(--fill-color);\n",
              "    }\n",
              "    20% {\n",
              "      border-color: transparent;\n",
              "      border-left-color: var(--fill-color);\n",
              "      border-top-color: var(--fill-color);\n",
              "    }\n",
              "    30% {\n",
              "      border-color: transparent;\n",
              "      border-left-color: var(--fill-color);\n",
              "      border-top-color: var(--fill-color);\n",
              "      border-right-color: var(--fill-color);\n",
              "    }\n",
              "    40% {\n",
              "      border-color: transparent;\n",
              "      border-right-color: var(--fill-color);\n",
              "      border-top-color: var(--fill-color);\n",
              "    }\n",
              "    60% {\n",
              "      border-color: transparent;\n",
              "      border-right-color: var(--fill-color);\n",
              "    }\n",
              "    80% {\n",
              "      border-color: transparent;\n",
              "      border-right-color: var(--fill-color);\n",
              "      border-bottom-color: var(--fill-color);\n",
              "    }\n",
              "    90% {\n",
              "      border-color: transparent;\n",
              "      border-bottom-color: var(--fill-color);\n",
              "    }\n",
              "  }\n",
              "</style>\n",
              "\n",
              "  <script>\n",
              "    async function quickchart(key) {\n",
              "      const quickchartButtonEl =\n",
              "        document.querySelector('#' + key + ' button');\n",
              "      quickchartButtonEl.disabled = true;  // To prevent multiple clicks.\n",
              "      quickchartButtonEl.classList.add('colab-df-spinner');\n",
              "      try {\n",
              "        const charts = await google.colab.kernel.invokeFunction(\n",
              "            'suggestCharts', [key], {});\n",
              "      } catch (error) {\n",
              "        console.error('Error during call to suggestCharts:', error);\n",
              "      }\n",
              "      quickchartButtonEl.classList.remove('colab-df-spinner');\n",
              "      quickchartButtonEl.classList.add('colab-df-quickchart-complete');\n",
              "    }\n",
              "    (() => {\n",
              "      let quickchartButtonEl =\n",
              "        document.querySelector('#df-6d8f13a6-d2fa-47ec-8512-4e307f2712d1 button');\n",
              "      quickchartButtonEl.style.display =\n",
              "        google.colab.kernel.accessAllowed ? 'block' : 'none';\n",
              "    })();\n",
              "  </script>\n",
              "</div>\n",
              "    </div>\n",
              "  </div>\n"
            ]
          },
          "metadata": {},
          "execution_count": 5
        }
      ],
      "source": [
        "file = pd.read_csv(\"/content/drive/MyDrive/cirrhosis.csv\")\n",
        "file = file.dropna()\n",
        "file.head()"
      ]
    },
    {
      "cell_type": "markdown",
      "id": "e12662aa",
      "metadata": {
        "papermill": {
          "duration": 0.006361,
          "end_time": "2022-11-28T17:50:34.021143",
          "exception": false,
          "start_time": "2022-11-28T17:50:34.014782",
          "status": "completed"
        },
        "tags": [],
        "id": "e12662aa"
      },
      "source": [
        "## **Data Preprocessing**"
      ]
    },
    {
      "cell_type": "code",
      "execution_count": null,
      "id": "f8e315b3",
      "metadata": {
        "execution": {
          "iopub.execute_input": "2022-11-28T17:50:34.033299Z",
          "iopub.status.busy": "2022-11-28T17:50:34.032460Z",
          "iopub.status.idle": "2022-11-28T17:50:34.040217Z",
          "shell.execute_reply": "2022-11-28T17:50:34.039309Z"
        },
        "papermill": {
          "duration": 0.016005,
          "end_time": "2022-11-28T17:50:34.042193",
          "exception": false,
          "start_time": "2022-11-28T17:50:34.026188",
          "status": "completed"
        },
        "tags": [],
        "id": "f8e315b3"
      },
      "outputs": [],
      "source": [
        "file.drop(['ID'], axis = 1, inplace = True)"
      ]
    },
    {
      "cell_type": "markdown",
      "id": "8a87c93a",
      "metadata": {
        "papermill": {
          "duration": 0.004772,
          "end_time": "2022-11-28T17:50:34.051973",
          "exception": false,
          "start_time": "2022-11-28T17:50:34.047201",
          "status": "completed"
        },
        "tags": [],
        "id": "8a87c93a"
      },
      "source": [
        "### **Converting Values from Days to Years in \"Age\" Column**"
      ]
    },
    {
      "cell_type": "code",
      "execution_count": null,
      "id": "6c389100",
      "metadata": {
        "execution": {
          "iopub.execute_input": "2022-11-28T17:50:34.064505Z",
          "iopub.status.busy": "2022-11-28T17:50:34.063836Z",
          "iopub.status.idle": "2022-11-28T17:50:34.070592Z",
          "shell.execute_reply": "2022-11-28T17:50:34.069790Z"
        },
        "papermill": {
          "duration": 0.015669,
          "end_time": "2022-11-28T17:50:34.072528",
          "exception": false,
          "start_time": "2022-11-28T17:50:34.056859",
          "status": "completed"
        },
        "tags": [],
        "id": "6c389100"
      },
      "outputs": [],
      "source": [
        "file[\"Age\"] = (file[\"Age\"] / 365)\n",
        "file[\"Age\"] = file[\"Age\"].astype(\"int64\")"
      ]
    },
    {
      "cell_type": "code",
      "execution_count": null,
      "id": "091109ed",
      "metadata": {
        "execution": {
          "iopub.execute_input": "2022-11-28T17:50:34.083693Z",
          "iopub.status.busy": "2022-11-28T17:50:34.083180Z",
          "iopub.status.idle": "2022-11-28T17:50:34.089349Z",
          "shell.execute_reply": "2022-11-28T17:50:34.088465Z"
        },
        "papermill": {
          "duration": 0.013846,
          "end_time": "2022-11-28T17:50:34.091322",
          "exception": false,
          "start_time": "2022-11-28T17:50:34.077476",
          "status": "completed"
        },
        "tags": [],
        "id": "091109ed"
      },
      "outputs": [],
      "source": [
        "data = file.iloc[:, :len(file.columns) - 1]\n",
        "labels = file.iloc[:, len(file.columns)-1]\n",
        "class_names = labels.unique()"
      ]
    },
    {
      "cell_type": "markdown",
      "id": "e6f385df",
      "metadata": {
        "papermill": {
          "duration": 0.004667,
          "end_time": "2022-11-28T17:50:34.101175",
          "exception": false,
          "start_time": "2022-11-28T17:50:34.096508",
          "status": "completed"
        },
        "tags": [],
        "id": "e6f385df"
      },
      "source": [
        "## **Data Analysis**"
      ]
    },
    {
      "cell_type": "code",
      "execution_count": null,
      "id": "5ba2907e",
      "metadata": {
        "execution": {
          "iopub.execute_input": "2022-11-28T17:50:34.112129Z",
          "iopub.status.busy": "2022-11-28T17:50:34.111876Z",
          "iopub.status.idle": "2022-11-28T17:50:34.208215Z",
          "shell.execute_reply": "2022-11-28T17:50:34.203635Z"
        },
        "papermill": {
          "duration": 0.106778,
          "end_time": "2022-11-28T17:50:34.212850",
          "exception": false,
          "start_time": "2022-11-28T17:50:34.106072",
          "status": "completed"
        },
        "tags": [],
        "id": "5ba2907e",
        "outputId": "f3ad9289-7633-4a8f-cbbc-4b1b229260e5"
      },
      "outputs": [
        {
          "data": {
            "text/html": [
              "<style type=\"text/css\">\n",
              "#T_5d13c_row0_col0, #T_5d13c_row1_col0, #T_5d13c_row2_col0, #T_5d13c_row2_col1, #T_5d13c_row2_col2, #T_5d13c_row2_col3, #T_5d13c_row2_col4, #T_5d13c_row2_col5, #T_5d13c_row2_col6, #T_5d13c_row2_col7, #T_5d13c_row3_col0, #T_5d13c_row4_col0, #T_5d13c_row4_col1, #T_5d13c_row4_col2, #T_5d13c_row4_col4, #T_5d13c_row4_col5, #T_5d13c_row4_col6, #T_5d13c_row4_col7, #T_5d13c_row5_col0, #T_5d13c_row6_col0, #T_5d13c_row7_col0, #T_5d13c_row8_col0, #T_5d13c_row9_col0, #T_5d13c_row10_col0, #T_5d13c_row10_col1, #T_5d13c_row10_col2, #T_5d13c_row10_col6, #T_5d13c_row10_col7, #T_5d13c_row11_col0, #T_5d13c_row11_col1, #T_5d13c_row11_col2, #T_5d13c_row11_col3, #T_5d13c_row11_col4, #T_5d13c_row11_col5, #T_5d13c_row11_col6, #T_5d13c_row11_col7 {\n",
              "  background-color: #f7fcf0;\n",
              "  color: #000000;\n",
              "}\n",
              "#T_5d13c_row0_col1 {\n",
              "  background-color: #084384;\n",
              "  color: #f1f1f1;\n",
              "}\n",
              "#T_5d13c_row0_col2 {\n",
              "  background-color: #72c7c7;\n",
              "  color: #000000;\n",
              "}\n",
              "#T_5d13c_row0_col3, #T_5d13c_row9_col5 {\n",
              "  background-color: #ddf2d8;\n",
              "  color: #000000;\n",
              "}\n",
              "#T_5d13c_row0_col4, #T_5d13c_row0_col5, #T_5d13c_row0_col6, #T_5d13c_row6_col1, #T_5d13c_row6_col2, #T_5d13c_row6_col3, #T_5d13c_row6_col7 {\n",
              "  background-color: #084081;\n",
              "  color: #f1f1f1;\n",
              "}\n",
              "#T_5d13c_row0_col7 {\n",
              "  background-color: #b5e2bb;\n",
              "  color: #000000;\n",
              "}\n",
              "#T_5d13c_row1_col1, #T_5d13c_row1_col6 {\n",
              "  background-color: #f3fbed;\n",
              "  color: #000000;\n",
              "}\n",
              "#T_5d13c_row1_col2, #T_5d13c_row1_col7, #T_5d13c_row4_col3, #T_5d13c_row10_col4, #T_5d13c_row10_col5 {\n",
              "  background-color: #f6fcef;\n",
              "  color: #000000;\n",
              "}\n",
              "#T_5d13c_row1_col3 {\n",
              "  background-color: #e7f6e2;\n",
              "  color: #000000;\n",
              "}\n",
              "#T_5d13c_row1_col4, #T_5d13c_row7_col7 {\n",
              "  background-color: #f1faeb;\n",
              "  color: #000000;\n",
              "}\n",
              "#T_5d13c_row1_col5, #T_5d13c_row7_col2 {\n",
              "  background-color: #f3faec;\n",
              "  color: #000000;\n",
              "}\n",
              "#T_5d13c_row3_col1 {\n",
              "  background-color: #d7efd1;\n",
              "  color: #000000;\n",
              "}\n",
              "#T_5d13c_row3_col2, #T_5d13c_row8_col3 {\n",
              "  background-color: #e3f4de;\n",
              "  color: #000000;\n",
              "}\n",
              "#T_5d13c_row3_col3 {\n",
              "  background-color: #99d7ba;\n",
              "  color: #000000;\n",
              "}\n",
              "#T_5d13c_row3_col4 {\n",
              "  background-color: #d3eecc;\n",
              "  color: #000000;\n",
              "}\n",
              "#T_5d13c_row3_col5 {\n",
              "  background-color: #d8f0d3;\n",
              "  color: #000000;\n",
              "}\n",
              "#T_5d13c_row3_col6 {\n",
              "  background-color: #ddf2d7;\n",
              "  color: #000000;\n",
              "}\n",
              "#T_5d13c_row3_col7 {\n",
              "  background-color: #e0f3db;\n",
              "  color: #000000;\n",
              "}\n",
              "#T_5d13c_row5_col1 {\n",
              "  background-color: #eef9e8;\n",
              "  color: #000000;\n",
              "}\n",
              "#T_5d13c_row5_col2, #T_5d13c_row5_col5, #T_5d13c_row5_col7, #T_5d13c_row8_col7, #T_5d13c_row9_col7 {\n",
              "  background-color: #f0f9e9;\n",
              "  color: #000000;\n",
              "}\n",
              "#T_5d13c_row5_col3 {\n",
              "  background-color: #f5fbee;\n",
              "  color: #000000;\n",
              "}\n",
              "#T_5d13c_row5_col4 {\n",
              "  background-color: #f1f9ea;\n",
              "  color: #000000;\n",
              "}\n",
              "#T_5d13c_row5_col6, #T_5d13c_row9_col2 {\n",
              "  background-color: #eff9e9;\n",
              "  color: #000000;\n",
              "}\n",
              "#T_5d13c_row6_col4 {\n",
              "  background-color: #2283ba;\n",
              "  color: #f1f1f1;\n",
              "}\n",
              "#T_5d13c_row6_col5 {\n",
              "  background-color: #3597c4;\n",
              "  color: #f1f1f1;\n",
              "}\n",
              "#T_5d13c_row6_col6 {\n",
              "  background-color: #2687bb;\n",
              "  color: #f1f1f1;\n",
              "}\n",
              "#T_5d13c_row7_col1, #T_5d13c_row8_col1, #T_5d13c_row8_col5 {\n",
              "  background-color: #ecf8e6;\n",
              "  color: #000000;\n",
              "}\n",
              "#T_5d13c_row7_col3 {\n",
              "  background-color: #e6f5e0;\n",
              "  color: #000000;\n",
              "}\n",
              "#T_5d13c_row7_col4, #T_5d13c_row7_col5 {\n",
              "  background-color: #ebf7e5;\n",
              "  color: #000000;\n",
              "}\n",
              "#T_5d13c_row7_col6, #T_5d13c_row8_col6 {\n",
              "  background-color: #edf8e7;\n",
              "  color: #000000;\n",
              "}\n",
              "#T_5d13c_row8_col2, #T_5d13c_row10_col3 {\n",
              "  background-color: #f2faeb;\n",
              "  color: #000000;\n",
              "}\n",
              "#T_5d13c_row8_col4 {\n",
              "  background-color: #eaf7e4;\n",
              "  color: #000000;\n",
              "}\n",
              "#T_5d13c_row9_col1 {\n",
              "  background-color: #dff3da;\n",
              "  color: #000000;\n",
              "}\n",
              "#T_5d13c_row9_col3 {\n",
              "  background-color: #d2edcc;\n",
              "  color: #000000;\n",
              "}\n",
              "#T_5d13c_row9_col4 {\n",
              "  background-color: #d9f0d3;\n",
              "  color: #000000;\n",
              "}\n",
              "#T_5d13c_row9_col6 {\n",
              "  background-color: #e2f4dd;\n",
              "  color: #000000;\n",
              "}\n",
              "</style>\n",
              "<table id=\"T_5d13c_\">\n",
              "  <thead>\n",
              "    <tr>\n",
              "      <th class=\"blank level0\" >&nbsp;</th>\n",
              "      <th class=\"col_heading level0 col0\" >count</th>\n",
              "      <th class=\"col_heading level0 col1\" >mean</th>\n",
              "      <th class=\"col_heading level0 col2\" >std</th>\n",
              "      <th class=\"col_heading level0 col3\" >min</th>\n",
              "      <th class=\"col_heading level0 col4\" >25%</th>\n",
              "      <th class=\"col_heading level0 col5\" >50%</th>\n",
              "      <th class=\"col_heading level0 col6\" >75%</th>\n",
              "      <th class=\"col_heading level0 col7\" >max</th>\n",
              "    </tr>\n",
              "  </thead>\n",
              "  <tbody>\n",
              "    <tr>\n",
              "      <th id=\"T_5d13c_level0_row0\" class=\"row_heading level0 row0\" >N_Days</th>\n",
              "      <td id=\"T_5d13c_row0_col0\" class=\"data row0 col0\" >276.000000</td>\n",
              "      <td id=\"T_5d13c_row0_col1\" class=\"data row0 col1\" >1979.166667</td>\n",
              "      <td id=\"T_5d13c_row0_col2\" class=\"data row0 col2\" >1112.380295</td>\n",
              "      <td id=\"T_5d13c_row0_col3\" class=\"data row0 col3\" >41.000000</td>\n",
              "      <td id=\"T_5d13c_row0_col4\" class=\"data row0 col4\" >1185.750000</td>\n",
              "      <td id=\"T_5d13c_row0_col5\" class=\"data row0 col5\" >1788.000000</td>\n",
              "      <td id=\"T_5d13c_row0_col6\" class=\"data row0 col6\" >2689.750000</td>\n",
              "      <td id=\"T_5d13c_row0_col7\" class=\"data row0 col7\" >4556.000000</td>\n",
              "    </tr>\n",
              "    <tr>\n",
              "      <th id=\"T_5d13c_level0_row1\" class=\"row_heading level0 row1\" >Age</th>\n",
              "      <td id=\"T_5d13c_row1_col0\" class=\"data row1 col0\" >276.000000</td>\n",
              "      <td id=\"T_5d13c_row1_col1\" class=\"data row1 col1\" >49.322464</td>\n",
              "      <td id=\"T_5d13c_row1_col2\" class=\"data row1 col2\" >10.523791</td>\n",
              "      <td id=\"T_5d13c_row1_col3\" class=\"data row1 col3\" >26.000000</td>\n",
              "      <td id=\"T_5d13c_row1_col4\" class=\"data row1 col4\" >41.000000</td>\n",
              "      <td id=\"T_5d13c_row1_col5\" class=\"data row1 col5\" >49.000000</td>\n",
              "      <td id=\"T_5d13c_row1_col6\" class=\"data row1 col6\" >56.000000</td>\n",
              "      <td id=\"T_5d13c_row1_col7\" class=\"data row1 col7\" >78.000000</td>\n",
              "    </tr>\n",
              "    <tr>\n",
              "      <th id=\"T_5d13c_level0_row2\" class=\"row_heading level0 row2\" >Bilirubin</th>\n",
              "      <td id=\"T_5d13c_row2_col0\" class=\"data row2 col0\" >276.000000</td>\n",
              "      <td id=\"T_5d13c_row2_col1\" class=\"data row2 col1\" >3.333696</td>\n",
              "      <td id=\"T_5d13c_row2_col2\" class=\"data row2 col2\" >4.601074</td>\n",
              "      <td id=\"T_5d13c_row2_col3\" class=\"data row2 col3\" >0.300000</td>\n",
              "      <td id=\"T_5d13c_row2_col4\" class=\"data row2 col4\" >0.800000</td>\n",
              "      <td id=\"T_5d13c_row2_col5\" class=\"data row2 col5\" >1.400000</td>\n",
              "      <td id=\"T_5d13c_row2_col6\" class=\"data row2 col6\" >3.525000</td>\n",
              "      <td id=\"T_5d13c_row2_col7\" class=\"data row2 col7\" >28.000000</td>\n",
              "    </tr>\n",
              "    <tr>\n",
              "      <th id=\"T_5d13c_level0_row3\" class=\"row_heading level0 row3\" >Cholesterol</th>\n",
              "      <td id=\"T_5d13c_row3_col0\" class=\"data row3 col0\" >276.000000</td>\n",
              "      <td id=\"T_5d13c_row3_col1\" class=\"data row3 col1\" >371.260870</td>\n",
              "      <td id=\"T_5d13c_row3_col2\" class=\"data row3 col2\" >234.788363</td>\n",
              "      <td id=\"T_5d13c_row3_col3\" class=\"data row3 col3\" >120.000000</td>\n",
              "      <td id=\"T_5d13c_row3_col4\" class=\"data row3 col4\" >249.500000</td>\n",
              "      <td id=\"T_5d13c_row3_col5\" class=\"data row3 col5\" >310.000000</td>\n",
              "      <td id=\"T_5d13c_row3_col6\" class=\"data row3 col6\" >401.000000</td>\n",
              "      <td id=\"T_5d13c_row3_col7\" class=\"data row3 col7\" >1775.000000</td>\n",
              "    </tr>\n",
              "    <tr>\n",
              "      <th id=\"T_5d13c_level0_row4\" class=\"row_heading level0 row4\" >Albumin</th>\n",
              "      <td id=\"T_5d13c_row4_col0\" class=\"data row4 col0\" >276.000000</td>\n",
              "      <td id=\"T_5d13c_row4_col1\" class=\"data row4 col1\" >3.516812</td>\n",
              "      <td id=\"T_5d13c_row4_col2\" class=\"data row4 col2\" >0.404789</td>\n",
              "      <td id=\"T_5d13c_row4_col3\" class=\"data row4 col3\" >1.960000</td>\n",
              "      <td id=\"T_5d13c_row4_col4\" class=\"data row4 col4\" >3.310000</td>\n",
              "      <td id=\"T_5d13c_row4_col5\" class=\"data row4 col5\" >3.545000</td>\n",
              "      <td id=\"T_5d13c_row4_col6\" class=\"data row4 col6\" >3.772500</td>\n",
              "      <td id=\"T_5d13c_row4_col7\" class=\"data row4 col7\" >4.400000</td>\n",
              "    </tr>\n",
              "    <tr>\n",
              "      <th id=\"T_5d13c_level0_row5\" class=\"row_heading level0 row5\" >Copper</th>\n",
              "      <td id=\"T_5d13c_row5_col0\" class=\"data row5 col0\" >276.000000</td>\n",
              "      <td id=\"T_5d13c_row5_col1\" class=\"data row5 col1\" >100.768116</td>\n",
              "      <td id=\"T_5d13c_row5_col2\" class=\"data row5 col2\" >88.268746</td>\n",
              "      <td id=\"T_5d13c_row5_col3\" class=\"data row5 col3\" >4.000000</td>\n",
              "      <td id=\"T_5d13c_row5_col4\" class=\"data row5 col4\" >42.750000</td>\n",
              "      <td id=\"T_5d13c_row5_col5\" class=\"data row5 col5\" >74.000000</td>\n",
              "      <td id=\"T_5d13c_row5_col6\" class=\"data row5 col6\" >129.250000</td>\n",
              "      <td id=\"T_5d13c_row5_col7\" class=\"data row5 col7\" >588.000000</td>\n",
              "    </tr>\n",
              "    <tr>\n",
              "      <th id=\"T_5d13c_level0_row6\" class=\"row_heading level0 row6\" >Alk_Phos</th>\n",
              "      <td id=\"T_5d13c_row6_col0\" class=\"data row6 col0\" >276.000000</td>\n",
              "      <td id=\"T_5d13c_row6_col1\" class=\"data row6 col1\" >1996.611594</td>\n",
              "      <td id=\"T_5d13c_row6_col2\" class=\"data row6 col2\" >2115.477894</td>\n",
              "      <td id=\"T_5d13c_row6_col3\" class=\"data row6 col3\" >289.000000</td>\n",
              "      <td id=\"T_5d13c_row6_col4\" class=\"data row6 col4\" >922.500000</td>\n",
              "      <td id=\"T_5d13c_row6_col5\" class=\"data row6 col5\" >1277.500000</td>\n",
              "      <td id=\"T_5d13c_row6_col6\" class=\"data row6 col6\" >2068.250000</td>\n",
              "      <td id=\"T_5d13c_row6_col7\" class=\"data row6 col7\" >13862.400000</td>\n",
              "    </tr>\n",
              "    <tr>\n",
              "      <th id=\"T_5d13c_level0_row7\" class=\"row_heading level0 row7\" >SGOT</th>\n",
              "      <td id=\"T_5d13c_row7_col0\" class=\"data row7 col0\" >276.000000</td>\n",
              "      <td id=\"T_5d13c_row7_col1\" class=\"data row7 col1\" >124.119239</td>\n",
              "      <td id=\"T_5d13c_row7_col2\" class=\"data row7 col2\" >56.719952</td>\n",
              "      <td id=\"T_5d13c_row7_col3\" class=\"data row7 col3\" >28.380000</td>\n",
              "      <td id=\"T_5d13c_row7_col4\" class=\"data row7 col4\" >82.457500</td>\n",
              "      <td id=\"T_5d13c_row7_col5\" class=\"data row7 col5\" >116.625000</td>\n",
              "      <td id=\"T_5d13c_row7_col6\" class=\"data row7 col6\" >153.450000</td>\n",
              "      <td id=\"T_5d13c_row7_col7\" class=\"data row7 col7\" >457.250000</td>\n",
              "    </tr>\n",
              "    <tr>\n",
              "      <th id=\"T_5d13c_level0_row8\" class=\"row_heading level0 row8\" >Tryglicerides</th>\n",
              "      <td id=\"T_5d13c_row8_col0\" class=\"data row8 col0\" >276.000000</td>\n",
              "      <td id=\"T_5d13c_row8_col1\" class=\"data row8 col1\" >124.978261</td>\n",
              "      <td id=\"T_5d13c_row8_col2\" class=\"data row8 col2\" >65.280761</td>\n",
              "      <td id=\"T_5d13c_row8_col3\" class=\"data row8 col3\" >33.000000</td>\n",
              "      <td id=\"T_5d13c_row8_col4\" class=\"data row8 col4\" >85.000000</td>\n",
              "      <td id=\"T_5d13c_row8_col5\" class=\"data row8 col5\" >108.000000</td>\n",
              "      <td id=\"T_5d13c_row8_col6\" class=\"data row8 col6\" >151.250000</td>\n",
              "      <td id=\"T_5d13c_row8_col7\" class=\"data row8 col7\" >598.000000</td>\n",
              "    </tr>\n",
              "    <tr>\n",
              "      <th id=\"T_5d13c_level0_row9\" class=\"row_heading level0 row9\" >Platelets</th>\n",
              "      <td id=\"T_5d13c_row9_col0\" class=\"data row9 col0\" >276.000000</td>\n",
              "      <td id=\"T_5d13c_row9_col1\" class=\"data row9 col1\" >261.771739</td>\n",
              "      <td id=\"T_5d13c_row9_col2\" class=\"data row9 col2\" >93.128857</td>\n",
              "      <td id=\"T_5d13c_row9_col3\" class=\"data row9 col3\" >62.000000</td>\n",
              "      <td id=\"T_5d13c_row9_col4\" class=\"data row9 col4\" >200.000000</td>\n",
              "      <td id=\"T_5d13c_row9_col5\" class=\"data row9 col5\" >257.000000</td>\n",
              "      <td id=\"T_5d13c_row9_col6\" class=\"data row9 col6\" >318.250000</td>\n",
              "      <td id=\"T_5d13c_row9_col7\" class=\"data row9 col7\" >563.000000</td>\n",
              "    </tr>\n",
              "    <tr>\n",
              "      <th id=\"T_5d13c_level0_row10\" class=\"row_heading level0 row10\" >Prothrombin</th>\n",
              "      <td id=\"T_5d13c_row10_col0\" class=\"data row10 col0\" >276.000000</td>\n",
              "      <td id=\"T_5d13c_row10_col1\" class=\"data row10 col1\" >10.735507</td>\n",
              "      <td id=\"T_5d13c_row10_col2\" class=\"data row10 col2\" >1.008315</td>\n",
              "      <td id=\"T_5d13c_row10_col3\" class=\"data row10 col3\" >9.000000</td>\n",
              "      <td id=\"T_5d13c_row10_col4\" class=\"data row10 col4\" >10.000000</td>\n",
              "      <td id=\"T_5d13c_row10_col5\" class=\"data row10 col5\" >10.600000</td>\n",
              "      <td id=\"T_5d13c_row10_col6\" class=\"data row10 col6\" >11.200000</td>\n",
              "      <td id=\"T_5d13c_row10_col7\" class=\"data row10 col7\" >17.100000</td>\n",
              "    </tr>\n",
              "    <tr>\n",
              "      <th id=\"T_5d13c_level0_row11\" class=\"row_heading level0 row11\" >Stage</th>\n",
              "      <td id=\"T_5d13c_row11_col0\" class=\"data row11 col0\" >276.000000</td>\n",
              "      <td id=\"T_5d13c_row11_col1\" class=\"data row11 col1\" >3.039855</td>\n",
              "      <td id=\"T_5d13c_row11_col2\" class=\"data row11 col2\" >0.853999</td>\n",
              "      <td id=\"T_5d13c_row11_col3\" class=\"data row11 col3\" >1.000000</td>\n",
              "      <td id=\"T_5d13c_row11_col4\" class=\"data row11 col4\" >2.000000</td>\n",
              "      <td id=\"T_5d13c_row11_col5\" class=\"data row11 col5\" >3.000000</td>\n",
              "      <td id=\"T_5d13c_row11_col6\" class=\"data row11 col6\" >4.000000</td>\n",
              "      <td id=\"T_5d13c_row11_col7\" class=\"data row11 col7\" >4.000000</td>\n",
              "    </tr>\n",
              "  </tbody>\n",
              "</table>\n"
            ],
            "text/plain": [
              "<pandas.io.formats.style.Styler at 0x7fa5c7b47a90>"
            ]
          },
          "execution_count": 6,
          "metadata": {},
          "output_type": "execute_result"
        }
      ],
      "source": [
        "file.describe().transpose().style.background_gradient(cmap = 'GnBu')"
      ]
    },
    {
      "cell_type": "code",
      "execution_count": null,
      "id": "cd26802a",
      "metadata": {
        "execution": {
          "iopub.execute_input": "2022-11-28T17:50:34.234461Z",
          "iopub.status.busy": "2022-11-28T17:50:34.234080Z",
          "iopub.status.idle": "2022-11-28T17:50:35.078194Z",
          "shell.execute_reply": "2022-11-28T17:50:35.077046Z"
        },
        "papermill": {
          "duration": 0.857705,
          "end_time": "2022-11-28T17:50:35.080923",
          "exception": false,
          "start_time": "2022-11-28T17:50:34.223218",
          "status": "completed"
        },
        "tags": [],
        "id": "cd26802a",
        "outputId": "e9258322-3de9-4af1-f640-d43dee88f8bc"
      },
      "outputs": [
        {
          "data": {
            "image/png": "[encoded data removed]",
            "text/plain": [
              "<Figure size 720x720 with 2 Axes>"
            ]
          },
          "metadata": {
            "needs_background": "light"
          },
          "output_type": "display_data"
        }
      ],
      "source": [
        "plt.figure(figsize=(10,10))\n",
        "sns.heatmap(file.corr(), cmap=\"RdBu\", annot=True)\n",
        "plt.show()"
      ]
    },
    {
      "cell_type": "markdown",
      "id": "f5670da5",
      "metadata": {
        "papermill": {
          "duration": 0.006188,
          "end_time": "2022-11-28T17:50:35.094143",
          "exception": false,
          "start_time": "2022-11-28T17:50:35.087955",
          "status": "completed"
        },
        "tags": [],
        "id": "f5670da5"
      },
      "source": [
        "## **Splitting Dataset**"
      ]
    },
    {
      "cell_type": "code",
      "execution_count": null,
      "id": "2d3ddfab",
      "metadata": {
        "execution": {
          "iopub.execute_input": "2022-11-28T17:50:35.107928Z",
          "iopub.status.busy": "2022-11-28T17:50:35.107643Z",
          "iopub.status.idle": "2022-11-28T17:50:35.122436Z",
          "shell.execute_reply": "2022-11-28T17:50:35.121818Z"
        },
        "papermill": {
          "duration": 0.023691,
          "end_time": "2022-11-28T17:50:35.124192",
          "exception": false,
          "start_time": "2022-11-28T17:50:35.100501",
          "status": "completed"
        },
        "tags": [],
        "id": "2d3ddfab"
      },
      "outputs": [],
      "source": [
        "data = pd.get_dummies(data)"
      ]
    },
    {
      "cell_type": "markdown",
      "id": "740069f9",
      "metadata": {
        "papermill": {
          "duration": 0.006028,
          "end_time": "2022-11-28T17:50:35.136400",
          "exception": false,
          "start_time": "2022-11-28T17:50:35.130372",
          "status": "completed"
        },
        "tags": [],
        "id": "740069f9"
      },
      "source": [
        "## **Feature Selection**"
      ]
    },
    {
      "cell_type": "code",
      "execution_count": null,
      "id": "48f82a55",
      "metadata": {
        "execution": {
          "iopub.execute_input": "2022-11-28T17:50:35.150581Z",
          "iopub.status.busy": "2022-11-28T17:50:35.149830Z",
          "iopub.status.idle": "2022-11-28T17:50:35.158593Z",
          "shell.execute_reply": "2022-11-28T17:50:35.157785Z"
        },
        "papermill": {
          "duration": 0.017741,
          "end_time": "2022-11-28T17:50:35.160468",
          "exception": false,
          "start_time": "2022-11-28T17:50:35.142727",
          "status": "completed"
        },
        "tags": [],
        "id": "48f82a55"
      },
      "outputs": [],
      "source": [
        "best = SelectKBest( score_func = chi2, k = 6)\n",
        "fit = best.fit(data, labels)"
      ]
    },
    {
      "cell_type": "code",
      "execution_count": null,
      "id": "fb97448f",
      "metadata": {
        "execution": {
          "iopub.execute_input": "2022-11-28T17:50:35.174625Z",
          "iopub.status.busy": "2022-11-28T17:50:35.174289Z",
          "iopub.status.idle": "2022-11-28T17:50:35.181038Z",
          "shell.execute_reply": "2022-11-28T17:50:35.180259Z"
        },
        "papermill": {
          "duration": 0.01602,
          "end_time": "2022-11-28T17:50:35.183070",
          "exception": false,
          "start_time": "2022-11-28T17:50:35.167050",
          "status": "completed"
        },
        "tags": [],
        "id": "fb97448f"
      },
      "outputs": [],
      "source": [
        "x_train, x_test, y_train, y_test = train_test_split(data, labels, test_size = 0.25, shuffle = True)"
      ]
    },
    {
      "cell_type": "code",
      "execution_count": null,
      "id": "f563d1ad",
      "metadata": {
        "execution": {
          "iopub.execute_input": "2022-11-28T17:50:35.196601Z",
          "iopub.status.busy": "2022-11-28T17:50:35.196345Z",
          "iopub.status.idle": "2022-11-28T17:50:35.207385Z",
          "shell.execute_reply": "2022-11-28T17:50:35.206022Z"
        },
        "papermill": {
          "duration": 0.020722,
          "end_time": "2022-11-28T17:50:35.210042",
          "exception": false,
          "start_time": "2022-11-28T17:50:35.189320",
          "status": "completed"
        },
        "tags": [],
        "id": "f563d1ad",
        "outputId": "9a39fc71-6ca5-4e14-857e-00af43516482"
      },
      "outputs": [
        {
          "name": "stdout",
          "output_type": "stream",
          "text": [
            "Shape of Train Images : (207, 27)\n",
            "Shape of Test Images : (69, 27)\n",
            "Shape of Train Labels : (207,)\n",
            "Shape of Test Labels : (69,)\n"
          ]
        }
      ],
      "source": [
        "print(f\"Shape of Train Images : {np.shape(x_train)}\")\n",
        "print(f\"Shape of Test Images : {np.shape(x_test)}\")\n",
        "print(f\"Shape of Train Labels : {np.shape(y_train)}\")\n",
        "print(f\"Shape of Test Labels : {np.shape(y_test)}\")"
      ]
    },
    {
      "cell_type": "markdown",
      "id": "2fce42e4",
      "metadata": {
        "papermill": {
          "duration": 0.006121,
          "end_time": "2022-11-28T17:50:35.222763",
          "exception": false,
          "start_time": "2022-11-28T17:50:35.216642",
          "status": "completed"
        },
        "tags": [],
        "id": "2fce42e4"
      },
      "source": [
        "## **Models & Evaluation**"
      ]
    },
    {
      "cell_type": "markdown",
      "id": "a07778b0",
      "metadata": {
        "papermill": {
          "duration": 0.006118,
          "end_time": "2022-11-28T17:50:35.235226",
          "exception": false,
          "start_time": "2022-11-28T17:50:35.229108",
          "status": "completed"
        },
        "tags": [],
        "id": "a07778b0"
      },
      "source": [
        "### **Logistic Regression**"
      ]
    },
    {
      "cell_type": "code",
      "execution_count": null,
      "id": "e8f155e4",
      "metadata": {
        "execution": {
          "iopub.execute_input": "2022-11-28T17:50:35.248908Z",
          "iopub.status.busy": "2022-11-28T17:50:35.248658Z",
          "iopub.status.idle": "2022-11-28T17:50:35.778709Z",
          "shell.execute_reply": "2022-11-28T17:50:35.777745Z"
        },
        "papermill": {
          "duration": 0.539229,
          "end_time": "2022-11-28T17:50:35.780827",
          "exception": false,
          "start_time": "2022-11-28T17:50:35.241598",
          "status": "completed"
        },
        "tags": [],
        "id": "e8f155e4",
        "outputId": "fad9c993-e41b-496a-d83b-44f855d71808"
      },
      "outputs": [
        {
          "name": "stdout",
          "output_type": "stream",
          "text": [
            "Classification Report of Logistic Regression : \n",
            "               precision    recall  f1-score   support\n",
            "\n",
            "         1.0       0.00      0.00      0.00         3\n",
            "         2.0       0.50      0.12      0.20        16\n",
            "         3.0       0.51      0.76      0.61        25\n",
            "         4.0       0.67      0.72      0.69        25\n",
            "\n",
            "    accuracy                           0.57        69\n",
            "   macro avg       0.42      0.40      0.38        69\n",
            "weighted avg       0.54      0.57      0.52        69\n",
            "\n",
            "Confusion Matrix of Logistic Regression: \n",
            "\n"
          ]
        },
        {
          "data": {
            "image/png": "[encoded data removed]",
            "text/plain": [
              "<Figure size 432x288 with 2 Axes>"
            ]
          },
          "metadata": {
            "needs_background": "light"
          },
          "output_type": "display_data"
        }
      ],
      "source": [
        "lor_model = LogisticRegression(random_state=1, max_iter=1000)\n",
        "lor_model.fit(x_train, y_train)\n",
        "\n",
        "lor_pred = lor_model.predict(x_test)\n",
        "lor_cm = confusion_matrix(y_test, lor_pred)\n",
        "\n",
        "print(f\"Classification Report of Logistic Regression : \\n {classification_report(y_test, lor_pred)}\")\n",
        "\n",
        "print(f\"Confusion Matrix of Logistic Regression: \\n\")\n",
        "sns.heatmap(lor_cm,cmap = 'Blues',annot = True, xticklabels = class_names, yticklabels = class_names)\n",
        "plt.show()"
      ]
    },
    {
      "cell_type": "markdown",
      "id": "a6b5d8cb",
      "metadata": {
        "papermill": {
          "duration": 0.006514,
          "end_time": "2022-11-28T17:50:35.794193",
          "exception": false,
          "start_time": "2022-11-28T17:50:35.787679",
          "status": "completed"
        },
        "tags": [],
        "id": "a6b5d8cb"
      },
      "source": [
        "### **KNN**"
      ]
    },
    {
      "cell_type": "code",
      "execution_count": null,
      "id": "f22dd173",
      "metadata": {
        "execution": {
          "iopub.execute_input": "2022-11-28T17:50:35.808534Z",
          "iopub.status.busy": "2022-11-28T17:50:35.808231Z",
          "iopub.status.idle": "2022-11-28T17:50:36.223594Z",
          "shell.execute_reply": "2022-11-28T17:50:36.222545Z"
        },
        "papermill": {
          "duration": 0.425625,
          "end_time": "2022-11-28T17:50:36.226351",
          "exception": false,
          "start_time": "2022-11-28T17:50:35.800726",
          "status": "completed"
        },
        "tags": [],
        "id": "f22dd173",
        "outputId": "d61b08b8-ca69-4113-84f3-3b9ff666db4c"
      },
      "outputs": [
        {
          "name": "stdout",
          "output_type": "stream",
          "text": [
            "Classification Report of KNN : \n",
            "               precision    recall  f1-score   support\n",
            "\n",
            "         1.0       0.12      0.33      0.18         3\n",
            "         2.0       0.38      0.38      0.38        16\n",
            "         3.0       0.50      0.56      0.53        25\n",
            "         4.0       0.65      0.44      0.52        25\n",
            "\n",
            "    accuracy                           0.46        69\n",
            "   macro avg       0.41      0.43      0.40        69\n",
            "weighted avg       0.51      0.46      0.48        69\n",
            "\n",
            "Confusion Matrix of KNN : \n",
            "\n"
          ]
        },
        {
          "data": {
            "image/png": "[encoded data removed]",
            "text/plain": [
              "<Figure size 432x288 with 2 Axes>"
            ]
          },
          "metadata": {
            "needs_background": "light"
          },
          "output_type": "display_data"
        }
      ],
      "source": [
        "knn_model = KNeighborsClassifier( n_neighbors=3 )\n",
        "knn_model.fit(x_train, y_train)\n",
        "\n",
        "knn_pred = knn_model.predict(x_test)\n",
        "knn_cm = confusion_matrix(y_test, knn_pred)\n",
        "\n",
        "print(f\"Classification Report of KNN : \\n {classification_report(y_test, knn_pred)}\")\n",
        "\n",
        "print(f\"Confusion Matrix of KNN : \\n\")\n",
        "sns.heatmap(knn_cm, cmap = 'Blues',annot = True, xticklabels = class_names, yticklabels = class_names)\n",
        "plt.show()"
      ]
    },
    {
      "cell_type": "markdown",
      "id": "b67f6c85",
      "metadata": {
        "papermill": {
          "duration": 0.010012,
          "end_time": "2022-11-28T17:50:36.247485",
          "exception": false,
          "start_time": "2022-11-28T17:50:36.237473",
          "status": "completed"
        },
        "tags": [],
        "id": "b67f6c85"
      },
      "source": [
        "### **Random Forest**"
      ]
    },
    {
      "cell_type": "code",
      "execution_count": null,
      "id": "b48ed5ec",
      "metadata": {
        "execution": {
          "iopub.execute_input": "2022-11-28T17:50:36.269151Z",
          "iopub.status.busy": "2022-11-28T17:50:36.268785Z",
          "iopub.status.idle": "2022-11-28T17:50:36.941964Z",
          "shell.execute_reply": "2022-11-28T17:50:36.940984Z"
        },
        "papermill": {
          "duration": 0.68654,
          "end_time": "2022-11-28T17:50:36.944246",
          "exception": false,
          "start_time": "2022-11-28T17:50:36.257706",
          "status": "completed"
        },
        "tags": [],
        "id": "b48ed5ec",
        "outputId": "c29d0e34-3a07-4c00-c15a-70bd834d3f69"
      },
      "outputs": [
        {
          "name": "stdout",
          "output_type": "stream",
          "text": [
            "Classification Report of Random Forest Classifier : \n",
            "               precision    recall  f1-score   support\n",
            "\n",
            "         1.0       0.00      0.00      0.00         3\n",
            "         2.0       0.33      0.12      0.18        16\n",
            "         3.0       0.39      0.44      0.42        25\n",
            "         4.0       0.57      0.80      0.67        25\n",
            "\n",
            "    accuracy                           0.48        69\n",
            "   macro avg       0.32      0.34      0.32        69\n",
            "weighted avg       0.43      0.48      0.43        69\n",
            "\n",
            "Confusion Matrix of Random Forest Classifier : \n",
            "\n"
          ]
        },
        {
          "data": {
            "image/png": "[encoded data removed]",
            "text/plain": [
              "<Figure size 432x288 with 2 Axes>"
            ]
          },
          "metadata": {
            "needs_background": "light"
          },
          "output_type": "display_data"
        }
      ],
      "source": [
        "rf_model = RandomForestClassifier( n_estimators = 200, random_state = 0,max_depth = 12)\n",
        "rf_model.fit(x_train, y_train)\n",
        "\n",
        "rf_pred = rf_model.predict(x_test)\n",
        "rf_cm = confusion_matrix(y_test, rf_pred)\n",
        "\n",
        "print(f\"Classification Report of Random Forest Classifier : \\n {classification_report(y_test, rf_pred)}\")\n",
        "\n",
        "print(f\"Confusion Matrix of Random Forest Classifier : \\n\")\n",
        "sns.heatmap(rf_cm, cmap = 'Blues',annot = True, xticklabels = class_names, yticklabels = class_names)\n",
        "plt.show()"
      ]
    },
    {
      "cell_type": "markdown",
      "id": "24dd56fb",
      "metadata": {
        "papermill": {
          "duration": 0.007377,
          "end_time": "2022-11-28T17:50:36.960160",
          "exception": false,
          "start_time": "2022-11-28T17:50:36.952783",
          "status": "completed"
        },
        "tags": [],
        "id": "24dd56fb"
      },
      "source": [
        "### **SVM**"
      ]
    },
    {
      "cell_type": "code",
      "execution_count": null,
      "id": "4686eab8",
      "metadata": {
        "execution": {
          "iopub.execute_input": "2022-11-28T17:50:36.976838Z",
          "iopub.status.busy": "2022-11-28T17:50:36.976033Z",
          "iopub.status.idle": "2022-11-28T17:50:37.239205Z",
          "shell.execute_reply": "2022-11-28T17:50:37.238237Z"
        },
        "papermill": {
          "duration": 0.27404,
          "end_time": "2022-11-28T17:50:37.241538",
          "exception": false,
          "start_time": "2022-11-28T17:50:36.967498",
          "status": "completed"
        },
        "tags": [],
        "id": "4686eab8",
        "outputId": "b2c6b7c0-3381-43a7-e2b7-f7ca48e588bd"
      },
      "outputs": [
        {
          "name": "stdout",
          "output_type": "stream",
          "text": [
            "Classification Report of SVM : \n",
            "               precision    recall  f1-score   support\n",
            "\n",
            "         1.0       0.00      0.00      0.00         3\n",
            "         2.0       0.00      0.00      0.00        16\n",
            "         3.0       0.43      0.96      0.59        25\n",
            "         4.0       0.69      0.36      0.47        25\n",
            "\n",
            "    accuracy                           0.48        69\n",
            "   macro avg       0.28      0.33      0.27        69\n",
            "weighted avg       0.41      0.48      0.39        69\n",
            "\n",
            "Confusion Matrix of SVM : \n",
            "\n"
          ]
        },
        {
          "data": {
            "image/png": "[encoded data removed]",
            "text/plain": [
              "<Figure size 432x288 with 2 Axes>"
            ]
          },
          "metadata": {
            "needs_background": "light"
          },
          "output_type": "display_data"
        }
      ],
      "source": [
        "svm_model = SVC()\n",
        "svm_model.fit(x_train, y_train)\n",
        "\n",
        "svm_pred = svm_model.predict(x_test)\n",
        "svm_cm = confusion_matrix(y_test, svm_pred)\n",
        "\n",
        "print(f\"Classification Report of SVM : \\n {classification_report(y_test, svm_pred)}\")\n",
        "\n",
        "print(f\"Confusion Matrix of SVM : \\n\")\n",
        "sns.heatmap(svm_cm, cmap = 'Blues',annot = True, xticklabels = class_names, yticklabels = class_names)\n",
        "plt.show()"
      ]
    }
  ],
  "metadata": {
    "kernelspec": {
      "display_name": "Python 3",
      "language": "python",
      "name": "python3"
    },
    "language_info": {
      "codemirror_mode": {
        "name": "ipython",
        "version": 3
      },
      "file_extension": ".py",
      "mimetype": "text/x-python",
      "name": "python",
      "nbconvert_exporter": "python",
      "pygments_lexer": "ipython3",
      "version": "3.7.12"
    },
    "papermill": {
      "default_parameters": {},
      "duration": 12.567735,
      "end_time": "2022-11-28T17:50:37.769146",
      "environment_variables": {},
      "exception": null,
      "input_path": "__notebook__.ipynb",
      "output_path": "__notebook__.ipynb",
      "parameters": {},
      "start_time": "2022-11-28T17:50:25.201411",
      "version": "2.3.4"
    },
    "colab": {
      "provenance": [],
      "include_colab_link": true
    }
  },
  "nbformat": 4,
  "nbformat_minor": 5
}